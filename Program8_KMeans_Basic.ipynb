{
 "cells": [
  {
   "cell_type": "code",
   "execution_count": null,
   "id": "804affd6-0795-4a8d-9bc3-282a9efde75a",
   "metadata": {},
   "outputs": [],
   "source": [
    "import matplotlib.pyplot as plt\n",
    "from sklearn.cluster import KMeans\n",
    "import numpy as np\n",
    "\n",
    "# Sample data\n",
    "data = [[1, 1], [1.5, 1.8], [5, 8], [8, 8], [1, 0.6], [9, 11]]\n",
    "print(\"📦 Original data:\")\n",
    "print(data)\n",
    "\n",
    "# Convert to NumPy array\n",
    "data = np.array(data)\n",
    "\n",
    "# Apply KMeans with k = 3\n",
    "k = 3\n",
    "kmeans = KMeans(n_clusters=k, random_state=42, n_init=10)\n",
    "kmeans.fit(data)\n",
    "\n",
    "# Labels and centroids\n",
    "labels = kmeans.labels_\n",
    "centroids = kmeans.cluster_centers_\n",
    "\n",
    "print(\"\\n🏷️ Labels assigned to data points:\", labels)\n",
    "print(\"📍 Cluster centroids:\", centroids)\n",
    "\n",
    "# Plot clusters\n",
    "plt.scatter(data[:, 0], data[:, 1], c=labels, cmap='viridis', label='Data Points')\n",
    "plt.scatter(centroids[:, 0], centroids[:, 1], s=100, marker='x', c='red', label='Centroids')\n",
    "plt.xlabel(\"X\")\n",
    "plt.ylabel(\"Y\")\n",
    "plt.title(\"K-Means Clustering (k=3)\")\n",
    "plt.grid()\n",
    "plt.legend()\n",
    "plt.show()\n"
   ]
  }
 ],
 "metadata": {
  "kernelspec": {
   "display_name": "Python 3 (ipykernel)",
   "language": "python",
   "name": "python3"
  },
  "language_info": {
   "codemirror_mode": {
    "name": "ipython",
    "version": 3
   },
   "file_extension": ".py",
   "mimetype": "text/x-python",
   "name": "python",
   "nbconvert_exporter": "python",
   "pygments_lexer": "ipython3",
   "version": "3.13.2"
  }
 },
 "nbformat": 4,
 "nbformat_minor": 5
}
