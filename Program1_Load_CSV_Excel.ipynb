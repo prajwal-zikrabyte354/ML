{
 "cells": [
  {
   "cell_type": "code",
   "execution_count": 6,
   "id": "97ce4fc0-2fba-40bd-a058-945d490aede3",
   "metadata": {},
   "outputs": [
    {
     "name": "stdout",
     "output_type": "stream",
     "text": [
      "CSV file data:\n",
      "       NAME  AGE  SCORE\n",
      "0  Srikanth   28     85\n",
      "1   Snigdha   22     78\n",
      "2      Mary   31     92\n",
      "\n",
      "Excel file data:\n",
      "    Rajesh   BCA  1\n",
      "0   Ramesh   BCA  2\n",
      "1    Swati  BCOM  1\n",
      "2  Florina  BCOM  3\n",
      "3    pooja   BBA  2\n",
      "4    Raghu   BBA  4\n",
      "\n",
      "CSV data description:\n",
      "             AGE  SCORE\n",
      "count   3.000000    3.0\n",
      "mean   27.000000   85.0\n",
      "std     4.582576    7.0\n",
      "min    22.000000   78.0\n",
      "25%    25.000000   81.5\n",
      "50%    28.000000   85.0\n",
      "75%    29.500000   88.5\n",
      "max    31.000000   92.0\n",
      "\n",
      "Excel data description:\n",
      "              1\n",
      "count  5.000000\n",
      "mean   2.400000\n",
      "std    1.140175\n",
      "min    1.000000\n",
      "25%    2.000000\n",
      "50%    2.000000\n",
      "75%    3.000000\n",
      "max    4.000000\n",
      "\n",
      "Data types in CSV file:\n",
      "NAME     object\n",
      "AGE       int64\n",
      "SCORE     int64\n",
      "dtype: object\n",
      "\n",
      "Data types in Excel file:\n",
      "Rajesh    object\n",
      "BCA       object\n",
      "1          int64\n",
      "dtype: object\n"
     ]
    }
   ],
   "source": [
    "import pandas as pd\n",
    "\n",
    "# Load CSV file\n",
    "csv_file_path = \"Sampledata1.csv\"\n",
    "data_csv = pd.read_csv(csv_file_path)\n",
    "print(\"CSV file data:\")\n",
    "print(data_csv)\n",
    "\n",
    "# Load Excel file\n",
    "excel_file_path = \"data.xlsx\"\n",
    "data_excel = pd.read_excel(excel_file_path)\n",
    "print(\"\\nExcel file data:\")\n",
    "print(data_excel)\n",
    "\n",
    "# Describe both\n",
    "print(\"\\nCSV data description:\")\n",
    "print(data_csv.describe())\n",
    "\n",
    "print(\"\\nExcel data description:\")\n",
    "print(data_excel.describe())\n",
    "\n",
    "# Data types\n",
    "print(\"\\nData types in CSV file:\")\n",
    "print(data_csv.dtypes)\n",
    "\n",
    "print(\"\\nData types in Excel file:\")\n",
    "print(data_excel.dtypes)\n"
   ]
  },
  {
   "cell_type": "code",
   "execution_count": null,
   "id": "dd773005-bc01-4eee-b7b5-939098a9f4ee",
   "metadata": {},
   "outputs": [],
   "source": []
  }
 ],
 "metadata": {
  "kernelspec": {
   "display_name": "Python 3 (ipykernel)",
   "language": "python",
   "name": "python3"
  },
  "language_info": {
   "codemirror_mode": {
    "name": "ipython",
    "version": 3
   },
   "file_extension": ".py",
   "mimetype": "text/x-python",
   "name": "python",
   "nbconvert_exporter": "python",
   "pygments_lexer": "ipython3",
   "version": "3.13.2"
  }
 },
 "nbformat": 4,
 "nbformat_minor": 5
}
