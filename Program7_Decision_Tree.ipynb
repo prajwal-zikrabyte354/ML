{
 "cells": [
  {
   "cell_type": "code",
   "execution_count": null,
   "id": "9612dee4-2e94-41bf-9be3-9b9bc9b5d1ad",
   "metadata": {},
   "outputs": [],
   "source": [
    "from sklearn.tree import DecisionTreeClassifier, plot_tree\n",
    "import matplotlib.pyplot as plt\n",
    "import numpy as np\n",
    "\n",
    "# Sample features [Temperature, Humidity]\n",
    "features = np.array([\n",
    "    [140, 1],\n",
    "    [130, 0],\n",
    "    [150, 0],\n",
    "    [170, 1],\n",
    "    [180, 1],\n",
    "    [100, 0],\n",
    "    [172, 1]\n",
    "])\n",
    "\n",
    "# Target values\n",
    "classifications = [\"play\", \"don't play\", \"don't play\", \"play\", \"play\", \"don't play\", \"play\"]\n",
    "\n",
    "# Train the model\n",
    "clf = DecisionTreeClassifier()\n",
    "clf.fit(features, classifications)\n",
    "\n",
    "# Predict\n",
    "prediction = clf.predict([[170, 1]])\n",
    "print(\"🧠 Predicted class for [170, 1]:\", prediction[0])\n",
    "\n",
    "# Plot the tree\n",
    "plt.figure(figsize=(6, 8))\n",
    "plot_tree(clf, feature_names=[\"Temperature\", \"Humidity\"], class_names=np.unique(classifications), filled=True, rounded=True)\n",
    "plt.title(\"Decision Tree Visualization\")\n",
    "plt.show()\n"
   ]
  }
 ],
 "metadata": {
  "kernelspec": {
   "display_name": "Python 3 (ipykernel)",
   "language": "python",
   "name": "python3"
  },
  "language_info": {
   "codemirror_mode": {
    "name": "ipython",
    "version": 3
   },
   "file_extension": ".py",
   "mimetype": "text/x-python",
   "name": "python",
   "nbconvert_exporter": "python",
   "pygments_lexer": "ipython3",
   "version": "3.13.2"
  }
 },
 "nbformat": 4,
 "nbformat_minor": 5
}
