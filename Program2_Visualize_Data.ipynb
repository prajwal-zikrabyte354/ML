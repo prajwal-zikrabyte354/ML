{
 "cells": [
  {
   "cell_type": "code",
   "execution_count": null,
   "id": "5ab5f098-2f51-45e0-a866-6f74cf6721db",
   "metadata": {},
   "outputs": [],
   "source": [
    "import pandas as pd\n",
    "import matplotlib.pyplot as plt\n",
    "\n",
    "# Load CSV data\n",
    "data = pd.read_csv('data2ndprg.csv')\n",
    "\n",
    "# Plot 1 - Scatter Plot\n",
    "plt.figure(figsize=(14, 7))\n",
    "plt.subplot(1, 2, 1)\n",
    "plt.scatter(data['Study hours'], data['Exam score'], color='dodgerblue', edgecolor='k', alpha=0.9)\n",
    "plt.title('Study hours vs. Exam scores')\n",
    "plt.xlabel('Study hours')\n",
    "plt.ylabel('Exam scores')\n",
    "plt.grid(True)\n",
    "\n",
    "# Create study hour range\n",
    "bins = [0, 2, 4, 6, 8, 10, 12]\n",
    "labels = ['0-2', '2-4', '4-6', '6-8', '8-10', '10-12']\n",
    "data['Study hour Range'] = pd.cut(data['Study hours'], bins=bins, labels=labels, right=False)\n",
    "\n",
    "# Plot 2 - Bar Chart\n",
    "grouped_data = data.groupby('Study hour Range', observed=True)['Exam score'].mean()\n",
    "plt.subplot(1, 2, 2)\n",
    "grouped_data.plot(kind='bar', color='salmon')\n",
    "plt.title('Average Exam score by Study hour Range')\n",
    "plt.xlabel('Study hour Range')\n",
    "plt.ylabel('Average Exam score')\n",
    "plt.xticks(rotation=50)\n",
    "plt.tight_layout()\n",
    "plt.show()\n"
   ]
  }
 ],
 "metadata": {
  "kernelspec": {
   "display_name": "Python 3 (ipykernel)",
   "language": "python",
   "name": "python3"
  },
  "language_info": {
   "codemirror_mode": {
    "name": "ipython",
    "version": 3
   },
   "file_extension": ".py",
   "mimetype": "text/x-python",
   "name": "python",
   "nbconvert_exporter": "python",
   "pygments_lexer": "ipython3",
   "version": "3.13.2"
  }
 },
 "nbformat": 4,
 "nbformat_minor": 5
}
