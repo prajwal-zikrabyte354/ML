{
 "cells": [
  {
   "cell_type": "code",
   "execution_count": null,
   "id": "a0ff159e-8419-4c16-b0d3-662225564034",
   "metadata": {},
   "outputs": [],
   "source": [
    "import numpy as np\n",
    "import pandas as pd\n",
    "\n",
    "# Load data from CSV\n",
    "data = pd.read_csv(\"Social_Network_Ads.csv\")  # Make sure this file is in the same folder\n",
    "\n",
    "# Extract inputs and outputs\n",
    "X = data[['Age', 'EstimatedSalary']].values\n",
    "y = data['Purchased'].values\n",
    "\n",
    "# 1️⃣ Distance calculation function\n",
    "def euclidean_distance(x1, x2):\n",
    "    return np.sqrt(np.sum((x1 - x2) ** 2))\n",
    "\n",
    "# 2️⃣ Custom KNN prediction\n",
    "def knn_predict(X, y, new_data, k):\n",
    "    distances = []\n",
    "    for i in range(len(X)):\n",
    "        dist = euclidean_distance(X[i], new_data)\n",
    "        distances.append((dist, y[i]))\n",
    "    distances.sort(key=lambda x: x[0])\n",
    "    neighbors = distances[:k]\n",
    "\n",
    "    # Count votes\n",
    "    class_votes = {0: 0, 1: 0}\n",
    "    for neighbor in neighbors:\n",
    "        class_votes[neighbor[1]] += 1\n",
    "\n",
    "    return max(class_votes, key=class_votes.get)\n",
    "\n",
    "# 3️⃣ Test prediction\n",
    "new_data = np.array([60, 90000])\n",
    "k = 5\n",
    "prediction = knn_predict(X, y, new_data, k)\n",
    "\n",
    "if prediction == 0:\n",
    "    print(\"⚠️ Predicted class: Not Purchased\")\n",
    "else:\n",
    "    print(\"🛍️ Predicted class: Purchased\")\n"
   ]
  }
 ],
 "metadata": {
  "kernelspec": {
   "display_name": "Python 3 (ipykernel)",
   "language": "python",
   "name": "python3"
  },
  "language_info": {
   "codemirror_mode": {
    "name": "ipython",
    "version": 3
   },
   "file_extension": ".py",
   "mimetype": "text/x-python",
   "name": "python",
   "nbconvert_exporter": "python",
   "pygments_lexer": "ipython3",
   "version": "3.13.2"
  }
 },
 "nbformat": 4,
 "nbformat_minor": 5
}
