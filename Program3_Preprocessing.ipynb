{
 "cells": [
  {
   "cell_type": "code",
   "execution_count": 1,
   "id": "a15abbe6-ab2c-485d-8b4c-e01d13da467b",
   "metadata": {},
   "outputs": [
    {
     "name": "stdout",
     "output_type": "stream",
     "text": [
      "📌 After handling missing values:\n",
      "    Age  Gender   Income\n",
      "0  25.0  Female  50000.0\n",
      "1  30.0    Male  60000.0\n",
      "2  29.5    Male  45000.0\n",
      "3  28.0  Female  56250.0\n",
      "4  35.0    Male  70000.0\n",
      "\n",
      "📌 After encoding categorical values:\n",
      "   Gender_Female  Gender_Male\n",
      "0            1.0          0.0\n",
      "1            0.0          1.0\n",
      "2            0.0          1.0\n",
      "3            1.0          0.0\n",
      "4            0.0          1.0\n",
      "\n",
      "📌 After feature scaling:\n",
      "   Scaled Age  Scaled Income\n",
      "0   -1.382164      -0.727778\n",
      "1    0.153574       0.436667\n",
      "2    0.000000      -1.310001\n",
      "3   -0.460721       0.000000\n",
      "4    1.689312       1.601112\n"
     ]
    }
   ],
   "source": [
    "import pandas as pd\n",
    "from sklearn.impute import SimpleImputer\n",
    "from sklearn.preprocessing import OneHotEncoder, StandardScaler\n",
    "\n",
    "# Sample dataset\n",
    "data = {\n",
    "    'Age': [25, 30, None, 28, 35],\n",
    "    'Gender': ['Female', 'Male', 'Male', 'Female', 'Male'],\n",
    "    'Income': [50000, 60000, 45000, None, 70000]\n",
    "}\n",
    "\n",
    "df = pd.DataFrame(data)\n",
    "\n",
    "# 1. Handle missing values\n",
    "imputer = SimpleImputer(strategy='mean')\n",
    "df[['Age', 'Income']] = imputer.fit_transform(df[['Age', 'Income']])\n",
    "print(\"📌 After handling missing values:\")\n",
    "print(df)\n",
    "\n",
    "# 2. Encode gender\n",
    "encoder = OneHotEncoder()\n",
    "encoded = encoder.fit_transform(df[['Gender']]).toarray()\n",
    "encoded_df = pd.DataFrame(encoded, columns=encoder.get_feature_names_out(['Gender']))\n",
    "print(\"\\n📌 After encoding categorical values:\")\n",
    "print(encoded_df)\n",
    "\n",
    "# 3. Feature scaling\n",
    "scaler = StandardScaler()\n",
    "scaled = scaler.fit_transform(df[['Age', 'Income']])\n",
    "scaled_df = pd.DataFrame(scaled, columns=['Scaled Age', 'Scaled Income'])\n",
    "print(\"\\n📌 After feature scaling:\")\n",
    "print(scaled_df)\n"
   ]
  },
  {
   "cell_type": "code",
   "execution_count": null,
   "id": "7797b378-7ec0-42e4-a52c-41a32cc55ebe",
   "metadata": {},
   "outputs": [],
   "source": []
  }
 ],
 "metadata": {
  "kernelspec": {
   "display_name": "Python 3 (ipykernel)",
   "language": "python",
   "name": "python3"
  },
  "language_info": {
   "codemirror_mode": {
    "name": "ipython",
    "version": 3
   },
   "file_extension": ".py",
   "mimetype": "text/x-python",
   "name": "python",
   "nbconvert_exporter": "python",
   "pygments_lexer": "ipython3",
   "version": "3.13.2"
  }
 },
 "nbformat": 4,
 "nbformat_minor": 5
}
