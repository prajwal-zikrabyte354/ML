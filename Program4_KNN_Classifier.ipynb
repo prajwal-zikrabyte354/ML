{
 "cells": [
  {
   "cell_type": "code",
   "execution_count": 1,
   "id": "d72e0311-54fe-43af-8207-7b352ce629a7",
   "metadata": {},
   "outputs": [
    {
     "name": "stdout",
     "output_type": "stream",
     "text": [
      "✅ Accuracy on the test set: 1.00\n"
     ]
    },
    {
     "name": "stdin",
     "output_type": "stream",
     "text": [
      "Enter Exam Score 1:  57\n",
      "Enter Exam Score 2:  99\n"
     ]
    },
    {
     "name": "stdout",
     "output_type": "stream",
     "text": [
      "🎉 The student is predicted to PASS.\n"
     ]
    }
   ],
   "source": [
    "import numpy as np\n",
    "from sklearn.model_selection import train_test_split\n",
    "from sklearn.neighbors import KNeighborsClassifier\n",
    "from sklearn.metrics import accuracy_score\n",
    "\n",
    "# Features and labels\n",
    "x = np.array([\n",
    "    [80, 75], [95, 90], [60, 50], [45, 30], [30, 40],\n",
    "    [85, 95], [70, 60], [50, 55], [40, 45], [60, 70]\n",
    "])\n",
    "y = np.array([1, 1, 0, 0, 0, 1, 1, 0, 0, 1])\n",
    "\n",
    "# Train-test split\n",
    "x_train, x_test, y_train, y_test = train_test_split(x, y, test_size=0.2, random_state=42)\n",
    "\n",
    "# KNN model\n",
    "knn = KNeighborsClassifier(n_neighbors=3)\n",
    "knn.fit(x_train, y_train)\n",
    "\n",
    "# Evaluate\n",
    "y_pred = knn.predict(x_test)\n",
    "accuracy = accuracy_score(y_test, y_pred)\n",
    "print(\"✅ Accuracy on the test set: {:.2f}\".format(accuracy))\n",
    "\n",
    "# Predict for new input\n",
    "exam_score1 = float(input(\"Enter Exam Score 1: \"))\n",
    "exam_score2 = float(input(\"Enter Exam Score 2: \"))\n",
    "user_input = np.array([[exam_score1, exam_score2]])\n",
    "predicted = knn.predict(user_input)\n",
    "\n",
    "# Output result\n",
    "if predicted[0] == 1:\n",
    "    print(\"🎉 The student is predicted to PASS.\")\n",
    "else:\n",
    "    print(\"⚠️ The student is predicted to FAIL.\")\n"
   ]
  },
  {
   "cell_type": "code",
   "execution_count": null,
   "id": "f36039ef-4045-4326-8bfa-19d7cd0750c3",
   "metadata": {},
   "outputs": [],
   "source": []
  }
 ],
 "metadata": {
  "kernelspec": {
   "display_name": "Python 3 (ipykernel)",
   "language": "python",
   "name": "python3"
  },
  "language_info": {
   "codemirror_mode": {
    "name": "ipython",
    "version": 3
   },
   "file_extension": ".py",
   "mimetype": "text/x-python",
   "name": "python",
   "nbconvert_exporter": "python",
   "pygments_lexer": "ipython3",
   "version": "3.13.2"
  }
 },
 "nbformat": 4,
 "nbformat_minor": 5
}
